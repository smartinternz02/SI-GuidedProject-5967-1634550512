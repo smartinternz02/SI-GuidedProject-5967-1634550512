{
 "cells": [
  {
   "cell_type": "code",
   "execution_count": null,
   "id": "1d02507d",
   "metadata": {},
   "outputs": [],
   "source": [
    "#H1B Visa Approval project zip file link"
   ]
  },
  {
   "cell_type": "code",
   "execution_count": null,
   "id": "85ff58e6",
   "metadata": {},
   "outputs": [],
   "source": [
    "https://drive.google.com/file/d/1d7ZDVLor_q1Bdz-kzarwpaxR5HGGd4AA/view?usp=sharing"
   ]
  }
 ],
 "metadata": {
  "kernelspec": {
   "display_name": "Python 3",
   "language": "python",
   "name": "python3"
  },
  "language_info": {
   "codemirror_mode": {
    "name": "ipython",
    "version": 3
   },
   "file_extension": ".py",
   "mimetype": "text/x-python",
   "name": "python",
   "nbconvert_exporter": "python",
   "pygments_lexer": "ipython3",
   "version": "3.6.13"
  }
 },
 "nbformat": 4,
 "nbformat_minor": 5
}
